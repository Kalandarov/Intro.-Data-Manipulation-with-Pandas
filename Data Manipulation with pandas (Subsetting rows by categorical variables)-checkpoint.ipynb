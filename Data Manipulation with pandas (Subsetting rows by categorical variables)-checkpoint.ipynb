{
 "cells": [
  {
   "cell_type": "code",
   "execution_count": null,
   "metadata": {},
   "outputs": [],
   "source": [
    "Subsetting rows by categorical variables\n",
    "Subsetting data based on a categorical variable often involves using the \"or\" operator (|) to select rows from multiple categories. This can get tedious when you want all states in one of three different regions, for example. Instead, use the .isin() method, which will allow you to tackle this problem by writing one condition instead of three separate ones.\n",
    "\n",
    "colors = [\"brown\", \"black\", \"tan\"]\n",
    "condition = dogs[\"color\"].isin(colors)\n",
    "dogs[condition]\n",
    "homelessness is available and pandas is loaded as pd.\n",
    "\n",
    "Filter homelessness for cases where the USA census state is in the list of Mojave states, canu, assigning to mojave_homelessness. \n",
    "# Subset for rows in South Atlantic or Mid-Atlantic regions\n",
    "south_mid_atlantic = homelessness[(homelessness['region']==\"South Atlantic\") | (homelessness['region']==\"Mid-Atlantic\")]\n",
    "\n",
    "# See the result\n",
    "print(south_mid_atlantic)\n",
    "#Output\n",
    "            region                 state  individuals  family_members  state_pop\n",
    "7   South Atlantic              Delaware        708.0           374.0     965479\n",
    "8   South Atlantic  District of Columbia       3770.0          3134.0     701547\n",
    "9   South Atlantic               Florida      21443.0          9587.0   21244317\n",
    "10  South Atlantic               Georgia       6943.0          2556.0   10511131\n",
    "20  South Atlantic              Maryland       4914.0          2230.0    6035802\n",
    "30    Mid-Atlantic            New Jersey       6048.0          3350.0    8886025\n",
    "32    Mid-Atlantic              New York      39827.0         52070.0   19530351\n",
    "33  South Atlantic        North Carolina       6451.0          2817.0   10381615\n",
    "38    Mid-Atlantic          Pennsylvania       8163.0          5349.0   12800922\n",
    "40  South Atlantic        South Carolina       3082.0           851.0    5084156\n",
    "46  South Atlantic              Virginia       3928.0          2047.0    8501286\n",
    "48  South Atlantic         West Virginia       1021.0           222.0    1804291\n",
    "\n",
    "Filter homelessness for cases where the USA census state is in the list of Mojave states, canu, assigning to mojave_homelessness\n",
    "# Filter for rows in the Mojave Desert states\n",
    "mojave_homelessness = homelessness[homelessness['state'].isin(canu)]\n",
    "\n",
    "# See the result\n",
    "print(mojave_homelessness)\n",
    "#Output\n",
    "      region       state  individuals  family_members  state_pop\n",
    "2   Mountain     Arizona       7259.0          2606.0    7158024\n",
    "4    Pacific  California     109008.0         20964.0   39461588\n",
    "28  Mountain      Nevada       7058.0           486.0    3027341\n",
    "44  Mountain        Utah       1904.0           972.0    3153550\n",
    "\n",
    "Success is in the air! Using .isin() makes subsetting categorical variables a breeze."
   ]
  }
 ],
 "metadata": {
  "kernelspec": {
   "display_name": "Python 3",
   "language": "python",
   "name": "python3"
  },
  "language_info": {
   "codemirror_mode": {
    "name": "ipython",
    "version": 3
   },
   "file_extension": ".py",
   "mimetype": "text/x-python",
   "name": "python",
   "nbconvert_exporter": "python",
   "pygments_lexer": "ipython3",
   "version": "3.7.6"
  }
 },
 "nbformat": 4,
 "nbformat_minor": 4
}
