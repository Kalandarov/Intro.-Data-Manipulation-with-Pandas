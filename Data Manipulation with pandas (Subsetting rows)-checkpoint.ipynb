{
 "cells": [
  {
   "cell_type": "code",
   "execution_count": null,
   "metadata": {},
   "outputs": [],
   "source": [
    "Subsetting rows\n",
    "A large part of data science is about finding which bits of your dataset are interesting. One of the simplest techniques for this is to find a subset of rows that match some criteria. This is sometimes known as filtering rows or selecting rows.\n",
    "\n",
    "There are many ways to subset a DataFrame, perhaps the most common is to use relational operators to return True or False for each row, then pass that inside square brackets.\n",
    "\n",
    "dogs[dogs[\"height_cm\"] > 60]\n",
    "dogs[dogs[\"color\"] == \"tan\"]\n",
    "You can filter for multiple conditions at once by using the \"bitwise and\" operator, &.\n",
    "\n",
    "dogs[(dogs[\"height_cm\"] > 60) & (dogs[\"color\"] == \"tan\")]\n",
    "homelessness is available and pandas is loaded as pd.\n",
    "\n",
    "# Filter for rows where individuals is greater than 10000\n",
    "ind_gt_10k = homelessness[homelessness['individuals']>10000]\n",
    "\n",
    "# See the result\n",
    "print(ind_gt_10k)\n",
    "#Output\n",
    "\n",
    "                region       state  individuals  family_members  state_pop\n",
    "4              Pacific  California     109008.0         20964.0   39461588\n",
    "9       South Atlantic     Florida      21443.0          9587.0   21244317\n",
    "32        Mid-Atlantic    New York      39827.0         52070.0   19530351\n",
    "37             Pacific      Oregon      11139.0          3337.0    4181886\n",
    "43  West South Central       Texas      19199.0          6111.0   28628666\n",
    "47             Pacific  Washington      16424.0          5880.0    7523869\n",
    "\n",
    "Filter homelessness for cases where the USA Census region is \"Mountain\", assigning to mountain_reg. View the printed result.\n",
    "# Filter for rows where region is Mountain\n",
    "mountain_reg = homelessness[homelessness['region']==\"Mountain\"]\n",
    "\n",
    "# See the result\n",
    "print(mountain_reg)\n",
    "#Output\n",
    "      region       state  individuals  family_members  state_pop\n",
    "2   Mountain     Arizona       7259.0          2606.0    7158024\n",
    "5   Mountain    Colorado       7607.0          3250.0    5691287\n",
    "12  Mountain       Idaho       1297.0           715.0    1750536\n",
    "26  Mountain     Montana        983.0           422.0    1060665\n",
    "28  Mountain      Nevada       7058.0           486.0    3027341\n",
    "31  Mountain  New Mexico       1949.0           602.0    2092741\n",
    "44  Mountain        Utah       1904.0           972.0    3153550\n",
    "50  Mountain     Wyoming        434.0           205.0     577601\n",
    "\n",
    "Filter homelessness for cases where the number of family_members is less than one thousand and the region is \"Pacific\", \n",
    "assigning to fam_lt_1k_pac. View the printed result.\n",
    "\n",
    "# Filter for rows where family_members is less than 1000 \n",
    "# and region is Pacific\n",
    "fam_lt_1k_pac = homelessness[(homelessness['family_members']<1000) & (homelessness['region']==\"Pacific\")]\n",
    "\n",
    "# See the result\n",
    "print(fam_lt_1k_pac)\n",
    "#Output\n",
    "    region   state  individuals  family_members  state_pop\n",
    "1  Pacific  Alaska       1434.0           582.0     735139"
   ]
  }
 ],
 "metadata": {
  "kernelspec": {
   "display_name": "Python 3",
   "language": "python",
   "name": "python3"
  },
  "language_info": {
   "codemirror_mode": {
    "name": "ipython",
    "version": 3
   },
   "file_extension": ".py",
   "mimetype": "text/x-python",
   "name": "python",
   "nbconvert_exporter": "python",
   "pygments_lexer": "ipython3",
   "version": "3.7.6"
  }
 },
 "nbformat": 4,
 "nbformat_minor": 4
}
