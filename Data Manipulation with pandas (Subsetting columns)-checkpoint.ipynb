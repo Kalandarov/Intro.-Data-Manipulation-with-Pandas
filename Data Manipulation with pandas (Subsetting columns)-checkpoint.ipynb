{
 "cells": [
  {
   "cell_type": "code",
   "execution_count": null,
   "metadata": {},
   "outputs": [],
   "source": [
    "Subsetting columns\n",
    "When working with data, you may not need all of the variables in your dataset. Square brackets ([]) can be used to select only the columns that matter to you in an order that makes sense to you. To select only \"col_a\" of the DataFrame df, use\n",
    "\n",
    "df[\"col_a\"]\n",
    "To select \"col_a\" and \"col_b\" of df, use\n",
    "\n",
    "df[[\"col_a\", \"col_b\"]]\n",
    "homelessness is available and pandas is loaded as pd.\n",
    "\n",
    "\n",
    "Create a DataFrame called individuals that contains only the individuals column of homelessness.\n",
    "# Select the individuals column\n",
    "individuals = homelessness['individuals']\n",
    "\n",
    "# Print the head of the result\n",
    "print(individuals.head())\n",
    "#Output\n",
    "0      2570.0\n",
    "1      1434.0\n",
    "2      7259.0\n",
    "3      2280.0\n",
    "4    109008.0\n",
    "Name: individuals, dtype: float64\n",
    "        \n",
    "Create a DataFrame called state_fam that contains only the state and family_members columns of homelessness, in that order.\n",
    "\n",
    "# Select the state and family_members columns\n",
    "state_fam = state_fam = homelessness[['state','family_members']]\n",
    "\n",
    "# Print the head of the result\n",
    "print(state_fam.head())\n",
    "#Output\n",
    "        state  family_members\n",
    "0     Alabama           864.0\n",
    "1      Alaska           582.0\n",
    "2     Arizona          2606.0\n",
    "3    Arkansas           432.0\n",
    "4  California         20964.0\n",
    "\n",
    "Create a DataFrame called ind_state that contains the individuals and state columns of homelessness, in that order.\n",
    "# Select only the individuals and state columns, in that order\n",
    "ind_state = homelessness[['individuals','state']]\n",
    "\n",
    "# Print the head of the result\n",
    "print(ind_state.head())\n",
    "#Output\n",
    "   individuals       state\n",
    "0       2570.0     Alabama\n",
    "1       1434.0      Alaska\n",
    "2       7259.0     Arizona\n",
    "3       2280.0    Arkansas\n",
    "4     109008.0  California"
   ]
  }
 ],
 "metadata": {
  "kernelspec": {
   "display_name": "Python 3",
   "language": "python",
   "name": "python3"
  },
  "language_info": {
   "codemirror_mode": {
    "name": "ipython",
    "version": 3
   },
   "file_extension": ".py",
   "mimetype": "text/x-python",
   "name": "python",
   "nbconvert_exporter": "python",
   "pygments_lexer": "ipython3",
   "version": "3.7.6"
  }
 },
 "nbformat": 4,
 "nbformat_minor": 4
}
