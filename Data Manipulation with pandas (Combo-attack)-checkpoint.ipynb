{
 "cells": [
  {
   "cell_type": "code",
   "execution_count": null,
   "metadata": {},
   "outputs": [],
   "source": [
    "Combo-attack!\n",
    "\n",
    "\"Which state has the highest number of homeless individuals per 10,000 people in the state?\" \n",
    "\n",
    "Add a column to homelessness, indiv_per_10k, containing the number of homeless individuals per ten thousand people in each state.\n",
    "# Create indiv_per_10k col as homeless individuals per 10k state pop\n",
    "homelessness[\"indiv_per_10k\"] = 10000 * homelessness[\"individuals\"] / homelessness[\"state_pop\"]\n",
    "\n",
    "Subset rows where indiv_per_10k is higher than 20, assigning to high_homelessness\n",
    "# Subset rows for indiv_per_10k greater than 20\n",
    "high_homelessness = homelessness[homelessness['indiv_per_10k']>20]\n",
    "\n",
    "Sort high_homelessness by descending indiv_per_10k, assigning to high_homelessness_srt\n",
    "# Sort high_homelessness by descending indiv_per_10k\n",
    "high_homelessness_srt = high_homelessness.sort_values('indiv_per_10k', ascending=False)\n",
    "\n",
    "Select only the state and indiv_per_10k columns of high_homelessness_srt and save as result. Look at the result\n",
    "# From high_homelessness_srt, select the state and indiv_per_10k cols\n",
    "result = high_homelessness_srt[['state','indiv_per_10k']]\n",
    "\n",
    "# See the result\n",
    "print(result)\n",
    "#Output\n",
    "                   state  indiv_per_10k\n",
    "8   District of Columbia         53.738\n",
    "11                Hawaii         29.079\n",
    "4             California         27.624\n",
    "37                Oregon         26.636\n",
    "28                Nevada         23.314\n",
    "47            Washington         21.829\n",
    "32              New York         20.392"
   ]
  }
 ],
 "metadata": {
  "kernelspec": {
   "display_name": "Python 3",
   "language": "python",
   "name": "python3"
  },
  "language_info": {
   "codemirror_mode": {
    "name": "ipython",
    "version": 3
   },
   "file_extension": ".py",
   "mimetype": "text/x-python",
   "name": "python",
   "nbconvert_exporter": "python",
   "pygments_lexer": "ipython3",
   "version": "3.7.6"
  }
 },
 "nbformat": 4,
 "nbformat_minor": 4
}
