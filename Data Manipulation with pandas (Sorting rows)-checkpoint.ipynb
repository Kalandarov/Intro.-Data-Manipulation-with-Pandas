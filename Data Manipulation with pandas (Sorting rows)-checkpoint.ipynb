{
 "cells": [
  {
   "cell_type": "code",
   "execution_count": null,
   "metadata": {},
   "outputs": [],
   "source": [
    "Sorting rows\n",
    "Finding interesting bits of data in a DataFrame is often easier if you change the order of the rows. \n",
    "You can sort the rows by passing a column name to .sort_values().\n",
    "\n",
    "In cases where rows have the same value (this is common if you sort on a categorical variable), \n",
    "you may wish to break the ties by sorting on another column. You can sort on multiple columns in \n",
    "this way by passing a list of column names.\n",
    "\n",
    "Sort on …\tSyntax\n",
    "one column\tdf.sort_values(\"breed\")\n",
    "multiple columns\tdf.sort_values([\"breed\", \"weight_kg\"])\n",
    "\n",
    "By combining .sort_values() with .head(), you can answer questions in the form, \"What are the top cases where…?\".\n",
    "\n",
    "homelessness is available and pandas is loaded as pd.\n",
    "\n",
    "# Sort homelessness by region, then descending family members\n",
    "homelessness_reg_fam = homelessness_reg_fam = homelessness.sort_values(['region','family_members'], ascending = [True, False])\n",
    "\n",
    "# Print the top few rows\n",
    "print(homelessness_reg_fam.head())\n",
    "#Output\n",
    "                region      state  individuals  family_members  state_pop\n",
    "13  East North Central   Illinois       6752.0          3891.0   12723071\n",
    "35  East North Central       Ohio       6929.0          3320.0   11676341\n",
    "22  East North Central   Michigan       5209.0          3142.0    9984072\n",
    "49  East North Central  Wisconsin       2740.0          2167.0    5807406\n",
    "14  East North Central    Indiana       3776.0          1482.0    6695497"
   ]
  }
 ],
 "metadata": {
  "kernelspec": {
   "display_name": "Python 3",
   "language": "python",
   "name": "python3"
  },
  "language_info": {
   "codemirror_mode": {
    "name": "ipython",
    "version": 3
   },
   "file_extension": ".py",
   "mimetype": "text/x-python",
   "name": "python",
   "nbconvert_exporter": "python",
   "pygments_lexer": "ipython3",
   "version": "3.7.6"
  }
 },
 "nbformat": 4,
 "nbformat_minor": 4
}
